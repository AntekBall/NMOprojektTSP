{
 "cells": [
  {
   "cell_type": "markdown",
   "id": "db3de11a-82dd-4c83-8cea-10873160490e",
   "metadata": {},
   "source": [
    "### Coordinates and distance matrix generation"
   ]
  },
  {
   "cell_type": "code",
   "execution_count": 8,
   "id": "3681556e-1013-446e-9b51-094061761331",
   "metadata": {},
   "outputs": [],
   "source": [
    "import random\n",
    "import math\n",
    "\n",
    "# Don't change this!!!\n",
    "random.seed(101)\n",
    "# !!!\n",
    "\n",
    "def generate_coordinates(num_cities, x_range=(0, 100), y_range=(0, 100)):\n",
    "    return [(random.uniform(*x_range, ), random.uniform(*y_range)) for _ in range(num_cities)]\n",
    "\n",
    "\n",
    "def compute_distance_matrix(coords):\n",
    "    num_cities = len(coords)\n",
    "    matrix = [[0]*num_cities for _ in range(num_cities)]\n",
    "    for i in range(num_cities):\n",
    "        for j in range(i+1, num_cities):\n",
    "            dist = math.dist(coords[i], coords[j])\n",
    "            matrix[i][j] = matrix[j][i] = dist\n",
    "    return matrix"
   ]
  },
  {
   "cell_type": "code",
   "execution_count": 9,
   "id": "5b6dab22-aea2-47b1-b85d-f59059bdacb2",
   "metadata": {},
   "outputs": [],
   "source": [
    "# example\n",
    "\n",
    "num_cities = 50\n",
    "coords = generate_coordinates(num_cities)\n",
    "distance_matrix = compute_distance_matrix(coords)"
   ]
  },
  {
   "cell_type": "markdown",
   "id": "36fb916d-27dd-494e-a332-7272e87c0f08",
   "metadata": {},
   "source": []
  }
 ],
 "metadata": {
  "kernelspec": {
   "display_name": "Python 3 (ipykernel)",
   "language": "python",
   "name": "python3"
  },
  "language_info": {
   "codemirror_mode": {
    "name": "ipython",
    "version": 3
   },
   "file_extension": ".py",
   "mimetype": "text/x-python",
   "name": "python",
   "nbconvert_exporter": "python",
   "pygments_lexer": "ipython3",
   "version": "3.12.7"
  }
 },
 "nbformat": 4,
 "nbformat_minor": 5
}
